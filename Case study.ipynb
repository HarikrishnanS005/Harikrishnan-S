{
 "cells": [
  {
   "cell_type": "code",
   "execution_count": 1,
   "id": "4a4ae246",
   "metadata": {},
   "outputs": [],
   "source": [
    "import pandas as pd\n",
    "import numpy as np\n",
    "import matplotlib.pyplot as plt\n",
    "import seaborn as sns"
   ]
  },
  {
   "cell_type": "code",
   "execution_count": 2,
   "id": "407147e8",
   "metadata": {},
   "outputs": [],
   "source": [
    "data=pd.read_csv('Sales_add.csv')"
   ]
  },
  {
   "cell_type": "code",
   "execution_count": 3,
   "id": "0e6d1968",
   "metadata": {},
   "outputs": [
    {
     "data": {
      "text/html": [
       "<div>\n",
       "<style scoped>\n",
       "    .dataframe tbody tr th:only-of-type {\n",
       "        vertical-align: middle;\n",
       "    }\n",
       "\n",
       "    .dataframe tbody tr th {\n",
       "        vertical-align: top;\n",
       "    }\n",
       "\n",
       "    .dataframe thead th {\n",
       "        text-align: right;\n",
       "    }\n",
       "</style>\n",
       "<table border=\"1\" class=\"dataframe\">\n",
       "  <thead>\n",
       "    <tr style=\"text-align: right;\">\n",
       "      <th></th>\n",
       "      <th>Month</th>\n",
       "      <th>Region</th>\n",
       "      <th>Manager</th>\n",
       "      <th>Sales_before_digital_add(in $)</th>\n",
       "      <th>Sales_After_digital_add(in $)</th>\n",
       "    </tr>\n",
       "  </thead>\n",
       "  <tbody>\n",
       "    <tr>\n",
       "      <th>0</th>\n",
       "      <td>Month-1</td>\n",
       "      <td>Region - A</td>\n",
       "      <td>Manager - A</td>\n",
       "      <td>132921</td>\n",
       "      <td>270390</td>\n",
       "    </tr>\n",
       "    <tr>\n",
       "      <th>1</th>\n",
       "      <td>Month-2</td>\n",
       "      <td>Region - A</td>\n",
       "      <td>Manager - C</td>\n",
       "      <td>149559</td>\n",
       "      <td>223334</td>\n",
       "    </tr>\n",
       "    <tr>\n",
       "      <th>2</th>\n",
       "      <td>Month-3</td>\n",
       "      <td>Region - B</td>\n",
       "      <td>Manager - A</td>\n",
       "      <td>146278</td>\n",
       "      <td>244243</td>\n",
       "    </tr>\n",
       "    <tr>\n",
       "      <th>3</th>\n",
       "      <td>Month-4</td>\n",
       "      <td>Region - B</td>\n",
       "      <td>Manager - B</td>\n",
       "      <td>152167</td>\n",
       "      <td>231808</td>\n",
       "    </tr>\n",
       "    <tr>\n",
       "      <th>4</th>\n",
       "      <td>Month-5</td>\n",
       "      <td>Region - C</td>\n",
       "      <td>Manager - B</td>\n",
       "      <td>159525</td>\n",
       "      <td>258402</td>\n",
       "    </tr>\n",
       "  </tbody>\n",
       "</table>\n",
       "</div>"
      ],
      "text/plain": [
       "     Month      Region      Manager  Sales_before_digital_add(in $)  \\\n",
       "0  Month-1  Region - A  Manager - A                          132921   \n",
       "1  Month-2  Region - A  Manager - C                          149559   \n",
       "2  Month-3  Region - B  Manager - A                          146278   \n",
       "3  Month-4  Region - B  Manager - B                          152167   \n",
       "4  Month-5  Region - C  Manager - B                          159525   \n",
       "\n",
       "   Sales_After_digital_add(in $)  \n",
       "0                         270390  \n",
       "1                         223334  \n",
       "2                         244243  \n",
       "3                         231808  \n",
       "4                         258402  "
      ]
     },
     "execution_count": 3,
     "metadata": {},
     "output_type": "execute_result"
    }
   ],
   "source": [
    "data.head()"
   ]
  },
  {
   "cell_type": "code",
   "execution_count": 5,
   "id": "74a81aff",
   "metadata": {},
   "outputs": [
    {
     "data": {
      "text/plain": [
       "149239.95454545456"
      ]
     },
     "execution_count": 5,
     "metadata": {},
     "output_type": "execute_result"
    }
   ],
   "source": [
    "data['Sales_before_digital_add(in $)'].mean()"
   ]
  },
  {
   "cell_type": "code",
   "execution_count": 6,
   "id": "be7a0c92",
   "metadata": {},
   "outputs": [
    {
     "data": {
      "text/plain": [
       "231123.72727272726"
      ]
     },
     "execution_count": 6,
     "metadata": {},
     "output_type": "execute_result"
    }
   ],
   "source": [
    "data['Sales_After_digital_add(in $)'].mean()"
   ]
  },
  {
   "cell_type": "markdown",
   "id": "58c69199",
   "metadata": {},
   "source": [
    "The company wishes to clarify whether there is any increase in sales after\n",
    "stepping into digital marketing.\n",
    "\n",
    "H0= There is no change in sales after stepping into digital marketing.\n",
    "\n",
    "Ha= There is increase in sales after stepping into digital marketing."
   ]
  },
  {
   "cell_type": "code",
   "execution_count": 7,
   "id": "3da630e9",
   "metadata": {},
   "outputs": [],
   "source": [
    "#Two Sample T-Test\n",
    "from scipy.stats import ttest_ind"
   ]
  },
  {
   "cell_type": "code",
   "execution_count": 8,
   "id": "c6663363",
   "metadata": {},
   "outputs": [],
   "source": [
    "t_test,p_value=ttest_ind(data['Sales_before_digital_add(in $)'],data['Sales_After_digital_add(in $)'])"
   ]
  },
  {
   "cell_type": "code",
   "execution_count": 9,
   "id": "ee1cc050",
   "metadata": {},
   "outputs": [
    {
     "data": {
      "text/plain": [
       "2.614368006904645e-16"
      ]
     },
     "execution_count": 9,
     "metadata": {},
     "output_type": "execute_result"
    }
   ],
   "source": [
    "p_value"
   ]
  },
  {
   "cell_type": "code",
   "execution_count": 12,
   "id": "be741563",
   "metadata": {},
   "outputs": [
    {
     "name": "stdout",
     "output_type": "stream",
     "text": [
      "Null Hypothesis Rejected\n"
     ]
    }
   ],
   "source": [
    "if p_value<0.05:\n",
    "    print('Null Hypothesis Rejected')\n",
    "else:\n",
    "    print('Null Hypothesis Accepted')"
   ]
  },
  {
   "cell_type": "markdown",
   "id": "fc335746",
   "metadata": {},
   "source": [
    "Null Hypothesis rejected means that,there is increase in sales after stepping into digital marketing"
   ]
  },
  {
   "cell_type": "code",
   "execution_count": 13,
   "id": "f3f3739c",
   "metadata": {},
   "outputs": [],
   "source": [
    "#question 2"
   ]
  },
  {
   "cell_type": "markdown",
   "id": "003b3121",
   "metadata": {},
   "source": [
    "The company needs to check whether there is any dependency between\n",
    "the features “Region” and “Manager”.\n",
    "\n",
    "H0= There is no dependency between 'Region' and 'Manager'.\n",
    "\n",
    "Ha= There is some dependency between 'Region' and 'Manager'."
   ]
  },
  {
   "cell_type": "code",
   "execution_count": 14,
   "id": "dac15cda",
   "metadata": {},
   "outputs": [],
   "source": [
    "#Chi Square Test of Independence\n",
    "from scipy.stats import chi2_contingency"
   ]
  },
  {
   "cell_type": "code",
   "execution_count": 18,
   "id": "1b19abd4",
   "metadata": {},
   "outputs": [],
   "source": [
    "alpha=0.05"
   ]
  },
  {
   "cell_type": "code",
   "execution_count": 19,
   "id": "05590cb1",
   "metadata": {},
   "outputs": [],
   "source": [
    "tab_data=pd.crosstab(data['Region'],data['Manager'])"
   ]
  },
  {
   "cell_type": "code",
   "execution_count": 20,
   "id": "4800b7df",
   "metadata": {},
   "outputs": [
    {
     "data": {
      "text/html": [
       "<div>\n",
       "<style scoped>\n",
       "    .dataframe tbody tr th:only-of-type {\n",
       "        vertical-align: middle;\n",
       "    }\n",
       "\n",
       "    .dataframe tbody tr th {\n",
       "        vertical-align: top;\n",
       "    }\n",
       "\n",
       "    .dataframe thead th {\n",
       "        text-align: right;\n",
       "    }\n",
       "</style>\n",
       "<table border=\"1\" class=\"dataframe\">\n",
       "  <thead>\n",
       "    <tr style=\"text-align: right;\">\n",
       "      <th>Manager</th>\n",
       "      <th>Manager - A</th>\n",
       "      <th>Manager - B</th>\n",
       "      <th>Manager - C</th>\n",
       "    </tr>\n",
       "    <tr>\n",
       "      <th>Region</th>\n",
       "      <th></th>\n",
       "      <th></th>\n",
       "      <th></th>\n",
       "    </tr>\n",
       "  </thead>\n",
       "  <tbody>\n",
       "    <tr>\n",
       "      <th>Region - A</th>\n",
       "      <td>4</td>\n",
       "      <td>3</td>\n",
       "      <td>3</td>\n",
       "    </tr>\n",
       "    <tr>\n",
       "      <th>Region - B</th>\n",
       "      <td>4</td>\n",
       "      <td>1</td>\n",
       "      <td>2</td>\n",
       "    </tr>\n",
       "    <tr>\n",
       "      <th>Region - C</th>\n",
       "      <td>1</td>\n",
       "      <td>3</td>\n",
       "      <td>1</td>\n",
       "    </tr>\n",
       "  </tbody>\n",
       "</table>\n",
       "</div>"
      ],
      "text/plain": [
       "Manager     Manager - A  Manager - B  Manager - C\n",
       "Region                                           \n",
       "Region - A            4            3            3\n",
       "Region - B            4            1            2\n",
       "Region - C            1            3            1"
      ]
     },
     "execution_count": 20,
     "metadata": {},
     "output_type": "execute_result"
    }
   ],
   "source": [
    "tab_data"
   ]
  },
  {
   "cell_type": "code",
   "execution_count": 21,
   "id": "beef5fa5",
   "metadata": {},
   "outputs": [],
   "source": [
    "c,p,dof,expected=chi2_contingency(tab_data)"
   ]
  },
  {
   "cell_type": "code",
   "execution_count": 22,
   "id": "0f17a15e",
   "metadata": {},
   "outputs": [
    {
     "data": {
      "text/plain": [
       "0.5493991051158094"
      ]
     },
     "execution_count": 22,
     "metadata": {},
     "output_type": "execute_result"
    }
   ],
   "source": [
    "p"
   ]
  },
  {
   "cell_type": "code",
   "execution_count": 24,
   "id": "90a3f119",
   "metadata": {},
   "outputs": [
    {
     "name": "stdout",
     "output_type": "stream",
     "text": [
      "Null Hypothesis Accepted\n"
     ]
    }
   ],
   "source": [
    "if p<0.05:\n",
    "    print('Null Hypothesis Rejected')\n",
    "else:\n",
    "    print('Null Hypothesis Accepted')"
   ]
  },
  {
   "cell_type": "markdown",
   "id": "344f97cd",
   "metadata": {},
   "source": [
    "Null hypothesis accepted means,there is no dependency between 'Region' and 'Manager'.\n",
    "\n",
    "they are independent."
   ]
  }
 ],
 "metadata": {
  "kernelspec": {
   "display_name": "Python 3 (ipykernel)",
   "language": "python",
   "name": "python3"
  },
  "language_info": {
   "codemirror_mode": {
    "name": "ipython",
    "version": 3
   },
   "file_extension": ".py",
   "mimetype": "text/x-python",
   "name": "python",
   "nbconvert_exporter": "python",
   "pygments_lexer": "ipython3",
   "version": "3.9.7"
  }
 },
 "nbformat": 4,
 "nbformat_minor": 5
}
